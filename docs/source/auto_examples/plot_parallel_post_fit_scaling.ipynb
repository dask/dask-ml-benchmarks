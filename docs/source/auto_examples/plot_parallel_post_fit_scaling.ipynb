{
  "cells": [
    {
      "cell_type": "code",
      "execution_count": null,
      "metadata": {
        "collapsed": false
      },
      "outputs": [],
      "source": [
        "%matplotlib inline"
      ]
    },
    {
      "cell_type": "markdown",
      "metadata": {},
      "source": [
        "\nParallelizing Predicion\n=======================\n\nThis example demonstrates :class:`dask_ml.wrappers.ParallelPostFit`.\nA :class:`sklearn.svm.SVC` is fit on a small dataset that easily fits\nin memory.\n\nAfter training, we predict for successively larger datasets. We compare\n\n* The serial prediction time using the regular SVC.predict method\n* The parallel prediction time using\n  :meth:`dask_ml.warppers.ParallelPostFit.predict`\n\nWe see that the parallel version is faster, especially for larger datasets.\nAdditionally, the parallel version from ParallelPostFit scales out to larger\nthan memory datasets.\n\nWhile only predict is demonstrated here, wrappers.ParallelPostFit is equally\nuseful for predict_proba and transform.\n\n"
      ]
    },
    {
      "cell_type": "code",
      "execution_count": null,
      "metadata": {
        "collapsed": false
      },
      "outputs": [],
      "source": [
        "from timeit import default_timer as tic\n\nimport pandas as pd\nimport seaborn as sns\nimport sklearn.datasets\nfrom sklearn.svm import SVC\n\nimport dask_ml.datasets\nfrom dask_ml.wrappers import ParallelPostFit\n\nX, y = sklearn.datasets.make_classification(n_samples=1000)\nclf = ParallelPostFit(SVC(gamma='scale'))\nclf.fit(X, y)\n\n\nNs = [100_000, 200_000, 400_000, 800_000]\ntimings = []\n\n\nfor n in Ns:\n    X, y = dask_ml.datasets.make_classification(n_samples=n,\n                                                random_state=n,\n                                                chunks=n // 20)\n    t1 = tic()\n    # Serial scikit-learn version\n    clf.estimator.predict(X)\n    timings.append(('Scikit-Learn', n, tic() - t1))\n\n    t1 = tic()\n    # Parallelized scikit-learn version\n    clf.predict(X).compute()\n    timings.append(('dask-ml', n, tic() - t1))\n\n\ndf = pd.DataFrame(timings,\n                  columns=['method', 'Number of Samples', 'Predict Time'])\nax = sns.factorplot(x='Number of Samples', y='Predict Time', hue='method',\n                    data=df, aspect=1.5)"
      ]
    }
  ],
  "metadata": {
    "kernelspec": {
      "display_name": "Python 3",
      "language": "python",
      "name": "python3"
    },
    "language_info": {
      "codemirror_mode": {
        "name": "ipython",
        "version": 3
      },
      "file_extension": ".py",
      "mimetype": "text/x-python",
      "name": "python",
      "nbconvert_exporter": "python",
      "pygments_lexer": "ipython3",
      "version": "3.6.5"
    }
  },
  "nbformat": 4,
  "nbformat_minor": 0
}